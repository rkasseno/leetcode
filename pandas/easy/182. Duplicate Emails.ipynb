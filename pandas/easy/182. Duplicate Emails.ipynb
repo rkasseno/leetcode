{
 "cells": [
  {
   "cell_type": "markdown",
   "metadata": {},
   "source": [
    "## Solution 1"
   ]
  },
  {
   "cell_type": "markdown",
   "metadata": {},
   "source": [
    "* Runtime: Beats *__93.97%__*\n",
    "* Memory: Beats *__90.21%__*"
   ]
  },
  {
   "cell_type": "markdown",
   "metadata": {},
   "source": [
    "![Alt text](image-6.png)"
   ]
  },
  {
   "cell_type": "code",
   "execution_count": null,
   "metadata": {},
   "outputs": [],
   "source": [
    "def duplicate_emails(person: pd.DataFrame) -> pd.DataFrame:\n",
    "    duplicates = person.loc[person['email'].duplicated(keep=False), 'email'].drop_duplicates()\n",
    "    return pd.DataFrame({'Email' : duplicates})"
   ]
  },
  {
   "cell_type": "markdown",
   "metadata": {},
   "source": [
    "## Solution 2"
   ]
  },
  {
   "cell_type": "code",
   "execution_count": null,
   "metadata": {},
   "outputs": [],
   "source": [
    "def duplicate_emails(person: pd.DataFrame) -> pd.DataFrame:\n",
    "    dict = {}\n",
    "    duplicates_list = []\n",
    "\n",
    "    for value in person['email']:\n",
    "        if not value in dict:\n",
    "            dict[value] = True\n",
    "        else:\n",
    "            duplicates_list.append(value)\n",
    "\n",
    "    return pd.DataFrame({'Email' : duplicates_list}).drop_duplicates()"
   ]
  },
  {
   "cell_type": "markdown",
   "metadata": {},
   "source": [
    "## Solution 3"
   ]
  },
  {
   "cell_type": "code",
   "execution_count": null,
   "metadata": {},
   "outputs": [],
   "source": [
    "def duplicate_emails(person: pd.DataFrame) -> pd.DataFrame:\n",
    "    emails = person['email'].unique()\n",
    "    duplicates = []\n",
    "    count = 0\n",
    "\n",
    "    for email in emails:\n",
    "        for index, value in enumerate(person['email']):\n",
    "            if value == email:\n",
    "                count += 1\n",
    "        if count > 1:\n",
    "            duplicates.append(email)\n",
    "        count = 0\n",
    "    result = pd.DataFrame({'Email' : duplicates})\n",
    "    \n",
    "    return result"
   ]
  }
 ],
 "metadata": {
  "kernelspec": {
   "display_name": "myenv",
   "language": "python",
   "name": "python3"
  },
  "language_info": {
   "codemirror_mode": {
    "name": "ipython",
    "version": 3
   },
   "file_extension": ".py",
   "mimetype": "text/x-python",
   "name": "python",
   "nbconvert_exporter": "python",
   "pygments_lexer": "ipython3",
   "version": "3.11.6"
  },
  "orig_nbformat": 4
 },
 "nbformat": 4,
 "nbformat_minor": 2
}
